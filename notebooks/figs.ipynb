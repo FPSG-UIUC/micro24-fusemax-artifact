{
 "cells": [
  {
   "cell_type": "markdown",
   "id": "db582c17-999a-48ca-8571-56fae0f6e1fe",
   "metadata": {},
   "source": [
    "# MICRO 2024 FuseMax Artifact Evaluation Figures 6-12\n",
    "\n",
    "This notebook performs the modeling and generates the figures used in the paper, \"FuseMax: Leveraging Extended Einsums to Optimize Attention Accelerator Design\", which appeared in MICRO 2024.\n",
    "\n",
    "**Warning: Running a cell more than once will overwrite the previous output produced by the cell. Please back up all results as soon as they are produced in case you accidentally rerun the cell.** All results are stored in data/generated/."
   ]
  },
  {
   "cell_type": "code",
   "execution_count": null,
   "id": "22160ce6-6c17-47bb-8574-14c744b1c5f0",
   "metadata": {},
   "outputs": [],
   "source": [
    "%matplotlib inline\n",
    "\n",
    "import os\n",
    "import sys\n",
    "sys.path.insert(0, \"..\")\n",
    "\n",
    "import src.graph as graph"
   ]
  },
  {
   "cell_type": "markdown",
   "id": "239ccbe6-b774-4f33-87d1-025f91b0a7ff",
   "metadata": {},
   "source": [
    "Set `pregenerated` to `True` to use pre-generated results for the figures and to `False` to display results you generated."
   ]
  },
  {
   "cell_type": "code",
   "execution_count": null,
   "id": "7dd5438b-b366-4f91-9ac0-19b8f89cff0b",
   "metadata": {},
   "outputs": [],
   "source": [
    "from ipywidgets import interactive\n",
    "\n",
    "pregenerated = False\n",
    "\n",
    "def set_pregenerated(**kwargs):\n",
    "    global pregenerated\n",
    "    pregenerated = kwargs['pregenerated']\n",
    "\n",
    "options = {\"pregenerated\": [False, True]}\n",
    "\n",
    "w = interactive(set_pregenerated, **options)\n",
    "\n",
    "display(w)"
   ]
  },
  {
   "cell_type": "code",
   "execution_count": null,
   "id": "071a6b6f-01fb-431a-875a-b9b83ccc2fc9",
   "metadata": {},
   "outputs": [],
   "source": [
    "graph.draw_bar_graph(graph.load_data(\"util_1d\", pregenerated=pregenerated), \"Utilization 1D\", \"fig6a\")"
   ]
  },
  {
   "cell_type": "code",
   "execution_count": null,
   "id": "8bebdec9-e80f-465c-bcbe-0761f814e032",
   "metadata": {},
   "outputs": [],
   "source": [
    "graph.draw_bar_graph(graph.load_data(\"util_2d\"), \"Utilization 2D\", \"fig6b\")"
   ]
  },
  {
   "cell_type": "code",
   "execution_count": null,
   "id": "49a6e78b-3cbb-4307-824f-40a5bbf0d060",
   "metadata": {},
   "outputs": [],
   "source": [
    "graph.draw_breakdown()"
   ]
  },
  {
   "cell_type": "code",
   "execution_count": null,
   "id": "40c0cc86-8425-4f1d-af2a-e2b2c15c9c16",
   "metadata": {},
   "outputs": [],
   "source": [
    "graph.draw_bar_graph(graph.load_data(\"latency\", data_cb=lambda a, u: u / a), \"Speedup\", \"fig8\")"
   ]
  },
  {
   "cell_type": "code",
   "execution_count": null,
   "id": "c082b17e-eb7c-43e2-9ebd-8a5922d0d5c8",
   "metadata": {},
   "outputs": [],
   "source": [
    "graph.draw_bar_graph(graph.load_data(\"energy\", data_cb=lambda a, u: a / u), \"Energy Use\", \"fig9\")"
   ]
  },
  {
   "cell_type": "code",
   "execution_count": null,
   "id": "b2d36f1b-2e59-405d-b6f9-98f7d90f3c94",
   "metadata": {},
   "outputs": [],
   "source": [
    "graph.draw_bar_graph(graph.load_data(\"latency\", kernel=\"end2end\", data_cb=lambda a, u: u / a), \"Speedup\", \"fig10\")"
   ]
  },
  {
   "cell_type": "code",
   "execution_count": null,
   "id": "9ee1e791-76c5-4501-ad26-7c0b73e97749",
   "metadata": {},
   "outputs": [],
   "source": [
    "graph.draw_bar_graph(graph.load_data(\"energy\", kernel=\"end2end\", data_cb=lambda a, u: a / u), \"Energy Use\", \"fig11\")"
   ]
  },
  {
   "cell_type": "code",
   "execution_count": null,
   "id": "4984eb4d-a852-4084-8144-8eb4f1db8fe5",
   "metadata": {},
   "outputs": [],
   "source": [
    "graph.draw_pareto()"
   ]
  }
 ],
 "metadata": {
  "kernelspec": {
   "display_name": "Python 3 (ipykernel)",
   "language": "python",
   "name": "python3"
  },
  "language_info": {
   "codemirror_mode": {
    "name": "ipython",
    "version": 3
   },
   "file_extension": ".py",
   "mimetype": "text/x-python",
   "name": "python",
   "nbconvert_exporter": "python",
   "pygments_lexer": "ipython3",
   "version": "3.12.4"
  }
 },
 "nbformat": 4,
 "nbformat_minor": 5
}
