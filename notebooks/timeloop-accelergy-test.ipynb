{
 "cells": [
  {
   "cell_type": "code",
   "execution_count": 1,
   "id": "929ba731-804d-476a-b7e7-9949f1e3e13e",
   "metadata": {},
   "outputs": [],
   "source": [
    "import timeloopfe.v4 as tl"
   ]
  },
  {
   "cell_type": "code",
   "execution_count": null,
   "id": "b57fc073-ba6c-403f-a08c-a12afa2f5bcb",
   "metadata": {},
   "outputs": [],
   "source": []
  }
 ],
 "metadata": {
  "kernelspec": {
   "display_name": "Python 3 (ipykernel)",
   "language": "python",
   "name": "python3"
  },
  "language_info": {
   "codemirror_mode": {
    "name": "ipython",
    "version": 3
   },
   "file_extension": ".py",
   "mimetype": "text/x-python",
   "name": "python",
   "nbconvert_exporter": "python",
   "pygments_lexer": "ipython3",
   "version": "3.8.10"
  }
 },
 "nbformat": 4,
 "nbformat_minor": 5
}
