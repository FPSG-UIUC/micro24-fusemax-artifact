{
 "cells": [
  {
   "cell_type": "code",
   "execution_count": 1,
   "id": "929ba731-804d-476a-b7e7-9949f1e3e13e",
   "metadata": {},
   "outputs": [],
   "source": [
    "import os\n",
    "import sys\n",
    "sys.path.insert(0, \"..\")\n",
    "\n",
    "import src.utils.check as check"
   ]
  },
  {
   "cell_type": "code",
   "execution_count": 2,
   "id": "b57fc073-ba6c-403f-a08c-a12afa2f5bcb",
   "metadata": {},
   "outputs": [
    {
     "name": "stdout",
     "output_type": "stream",
     "text": [
      "Timeloop OK\n"
     ]
    }
   ],
   "source": [
    "check.timeloop()"
   ]
  },
  {
   "cell_type": "code",
   "execution_count": 3,
   "id": "638a68ba-cccf-4c4a-b5bd-dd720606dd0b",
   "metadata": {},
   "outputs": [
    {
     "name": "stdout",
     "output_type": "stream",
     "text": [
      "Accelergy Area OK\n",
      "Accelergy Energy OK\n"
     ]
    }
   ],
   "source": [
    "check.accelergy()"
   ]
  }
 ],
 "metadata": {
  "kernelspec": {
   "display_name": "Python 3 (ipykernel)",
   "language": "python",
   "name": "python3"
  },
  "language_info": {
   "codemirror_mode": {
    "name": "ipython",
    "version": 3
   },
   "file_extension": ".py",
   "mimetype": "text/x-python",
   "name": "python",
   "nbconvert_exporter": "python",
   "pygments_lexer": "ipython3",
   "version": "3.8.10"
  }
 },
 "nbformat": 4,
 "nbformat_minor": 5
}
