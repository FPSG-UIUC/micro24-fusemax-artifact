{
 "cells": [
  {
   "cell_type": "code",
   "execution_count": null,
   "metadata": {},
   "outputs": [],
   "source": [
    "# Set up imports\n",
    "import os\n",
    "import timeloopfe.v4 as tl\n",
    "\n",
    "# Define relative paths - FLAT\n",
    "ARCH_PATH_2D_FLAT = f\"{os.curdir}/architecture/accel_flat/accel-top-2d-path.yaml\"\n",
    "ARCH_PATH_1D_FLAT = f\"{os.curdir}/architecture/accel_flat/accel-top-1d-path.yaml\"\n",
    "\n",
    "\n",
    "# Define relative paths - FuseMax\n",
    "ARCH_PATH_2D_FUSEMAX = f\"{os.curdir}/architecture/accel_fusemax/accel-top-2d-path.yaml\"\n",
    "ARCH_PATH_1D_FUSEMAX = f\"{os.curdir}/architecture/accel_fusemax/accel-top-1d-path.yaml\"\n",
    "\n",
    "# We don't actually use it but tl requires it to be defined\n",
    "PROBLEM_PATH = F\"{os.curdir}/architecture/pseudo/problem-pseudo.yaml\"\n",
    "MAPPER_PATH = F\"{os.curdir}/architecture/pseudo/mapper-pseudo.yaml\"\n",
    "\n",
    "# Shared stuff\n",
    "COMPONENTS_PATH = f\"{os.curdir}/architecture/components/*.yaml\"\n",
    "VARIABLES_PATH = f\"{os.curdir}/architecture/variables.yaml\"\n"
   ]
  },
  {
   "cell_type": "code",
   "execution_count": null,
   "metadata": {},
   "outputs": [],
   "source": [
    "spec_2d_flat = tl.Specification.from_yaml_files(\n",
    "    ARCH_PATH_2D_FLAT,\n",
    "    COMPONENTS_PATH,\n",
    "    MAPPER_PATH,\n",
    "    PROBLEM_PATH,\n",
    "    VARIABLES_PATH\n",
    ")  # Gather YAML files into a Python object\n"
   ]
  },
  {
   "cell_type": "code",
   "execution_count": null,
   "metadata": {},
   "outputs": [],
   "source": [
    "spec_2d_fusemax = tl.Specification.from_yaml_files(\n",
    "    ARCH_PATH_2D_FUSEMAX,\n",
    "    COMPONENTS_PATH,\n",
    "    MAPPER_PATH,\n",
    "    PROBLEM_PATH,\n",
    "    VARIABLES_PATH\n",
    ")  # Gather YAML files into a Python object"
   ]
  },
  {
   "cell_type": "code",
   "execution_count": null,
   "metadata": {},
   "outputs": [],
   "source": [
    "spec_1d_flat = tl.Specification.from_yaml_files(\n",
    "    ARCH_PATH_1D_FLAT,\n",
    "    COMPONENTS_PATH,\n",
    "    MAPPER_PATH,\n",
    "    PROBLEM_PATH,\n",
    "    VARIABLES_PATH\n",
    ")  # Gather YAML files into a Python object\n",
    "\n",
    "\n",
    "spec_1d_fusemax = tl.Specification.from_yaml_files(\n",
    "    ARCH_PATH_1D_FUSEMAX,\n",
    "    COMPONENTS_PATH,\n",
    "    MAPPER_PATH,\n",
    "    PROBLEM_PATH,\n",
    "    VARIABLES_PATH\n",
    ")  # Gather YAML files into a Python object"
   ]
  },
  {
   "cell_type": "code",
   "execution_count": null,
   "metadata": {},
   "outputs": [],
   "source": [
    "def read_and_indent(path, n_lines=30, start_at: str = None, end_at: str = None):\n",
    "    content = open(path).read()\n",
    "    if start_at is not None:\n",
    "        content = content[content.index(start_at):]\n",
    "    if end_at is not None:\n",
    "        content = content[: content.index(end_at) + len(end_at)]\n",
    "    content = content.split(\"\\n\")\n",
    "    content = content[:n_lines] if n_lines > 0 else content[n_lines:]\n",
    "    return \"\\t\" + \"\\n\\t\".join(content)\n"
   ]
  },
  {
   "cell_type": "code",
   "execution_count": null,
   "metadata": {},
   "outputs": [],
   "source": [
    "## Run the 2D one\n",
    "outputs_2d_flat = \"outputs-2d-flat\"\n",
    "tl.call_accelergy_verbose(\n",
    "    spec_2d_flat,\n",
    "    output_dir=f\"{os.curdir}/\"+outputs_2d_flat,\n",
    "    log_to=f\"{os.curdir}/\" +outputs_2d_flat+\"/accelergy_verbose.log\",\n",
    ")\n",
    "print(f\"Verbose Accelergy log (2D):\")\n",
    "print(read_and_indent(outputs_2d_flat+\"/accelergy_verbose.log\", -60))\n"
   ]
  },
  {
   "cell_type": "code",
   "execution_count": null,
   "metadata": {},
   "outputs": [],
   "source": [
    "# Run the 1D one\n",
    "outputs_1d_flat = \"outputs-1d-flat\"\n",
    "tl.call_accelergy_verbose(\n",
    "    spec_1d_flat,\n",
    "    output_dir=f\"{os.curdir}/\"+outputs_1d_flat,\n",
    "    log_to=f\"{os.curdir}/\"+outputs_1d_flat+\"/accelergy_verbose.log\",\n",
    ")\n",
    "print(f\"Verbose Accelergy log (1D):\")\n",
    "print(read_and_indent(outputs_1d_flat+\"/accelergy_verbose.log\", -60))\n"
   ]
  },
  {
   "cell_type": "code",
   "execution_count": null,
   "metadata": {},
   "outputs": [],
   "source": [
    "## Run the 2D one (fusemax)\n",
    "outputs_2d_fusemax = \"outputs-2d-fusemax\"\n",
    "tl.call_accelergy_verbose(\n",
    "    spec_2d_fusemax,\n",
    "    output_dir=f\"{os.curdir}/\"+outputs_2d_fusemax,\n",
    "    log_to=f\"{os.curdir}/\" +outputs_2d_fusemax+\"/accelergy_verbose.log\",\n",
    ")\n",
    "print(f\"Verbose Accelergy log (2D):\")\n",
    "print(read_and_indent(outputs_2d_fusemax+\"/accelergy_verbose.log\", -60))\n"
   ]
  },
  {
   "cell_type": "code",
   "execution_count": null,
   "metadata": {},
   "outputs": [],
   "source": [
    "# Run the 1D one\n",
    "outputs_1d_fusemax = \"outputs-1d-fusemax\"\n",
    "tl.call_accelergy_verbose(\n",
    "    spec_1d_fusemax,\n",
    "    output_dir=f\"{os.curdir}/\"+outputs_1d_fusemax,\n",
    "    log_to=f\"{os.curdir}/\"+outputs_1d_fusemax+\"/accelergy_verbose.log\",\n",
    ")\n",
    "print(f\"Verbose Accelergy log (1D):\")\n",
    "print(read_and_indent(outputs_1d_fusemax+\"/accelergy_verbose.log\", -60))"
   ]
  },
  {
   "cell_type": "markdown",
   "metadata": {},
   "source": []
  }
 ],
 "metadata": {
  "kernelspec": {
   "display_name": "env",
   "language": "python",
   "name": "python3"
  },
  "language_info": {
   "codemirror_mode": {
    "name": "ipython",
    "version": 3
   },
   "file_extension": ".py",
   "mimetype": "text/x-python",
   "name": "python",
   "nbconvert_exporter": "python",
   "pygments_lexer": "ipython3",
   "version": "3.12.2"
  }
 },
 "nbformat": 4,
 "nbformat_minor": 2
}
