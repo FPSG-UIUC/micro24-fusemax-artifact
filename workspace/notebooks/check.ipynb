{
 "cells": [
  {
   "cell_type": "markdown",
   "id": "dfadd07f-4b80-448a-9efd-c68458230a3a",
   "metadata": {},
   "source": [
    "# Check Installation\n",
    "\n",
    "Check that all packages are correctly installed"
   ]
  },
  {
   "cell_type": "code",
   "execution_count": null,
   "id": "929ba731-804d-476a-b7e7-9949f1e3e13e",
   "metadata": {},
   "outputs": [],
   "source": [
    "import os\n",
    "import sys\n",
    "sys.path.insert(0, \"..\")\n",
    "\n",
    "import src.scripts.check as check"
   ]
  },
  {
   "cell_type": "markdown",
   "id": "86bfaa56-2e6f-4ad5-bc94-6cc45effaba8",
   "metadata": {},
   "source": [
    "## Check Imported Packages\n",
    "\n",
    "Missing packages can be reinstalled with\n",
    "\n",
    "```bash\n",
    "pip install -r setup/native/requirements.txt\n",
    "```\n",
    "\n",
    "After reinstalling, restart the kernel before rerunning the check."
   ]
  },
  {
   "cell_type": "code",
   "execution_count": null,
   "id": "509cc1df-cf25-484e-8182-567f043b5cee",
   "metadata": {},
   "outputs": [],
   "source": [
    "check.imports()"
   ]
  },
  {
   "cell_type": "markdown",
   "id": "94dfd93a-b072-4c13-a63a-a83cdc79879d",
   "metadata": {},
   "source": [
    "## Check Timeloop Installation\n",
    "\n",
    "More information about Timeloop can be found [here](https://github.com/Accelergy-Project/accelergy-timeloop-infrastructure/), including installation instructions [here](https://timeloop.csail.mit.edu/v4/installation)."
   ]
  },
  {
   "cell_type": "code",
   "execution_count": null,
   "id": "b57fc073-ba6c-403f-a08c-a12afa2f5bcb",
   "metadata": {},
   "outputs": [],
   "source": [
    "check.timeloop()"
   ]
  },
  {
   "cell_type": "markdown",
   "id": "0c1eb285-60e2-416a-a0c5-378c5ee8a797",
   "metadata": {},
   "source": [
    "## Check Accelergy Installation\n",
    "\n",
    "More information about Accelergy can be found [here](https://github.com/Accelergy-Project/accelergy-timeloop-infrastructure/), including installation instructions [here](https://timeloop.csail.mit.edu/v4/installation).\n",
    "\n",
    "More information about the Accelergy library plug-in can be found [here](https://github.com/Accelergy-Project/accelergy-library-plug-in)."
   ]
  },
  {
   "cell_type": "code",
   "execution_count": null,
   "id": "638a68ba-cccf-4c4a-b5bd-dd720606dd0b",
   "metadata": {},
   "outputs": [],
   "source": [
    "check.accelergy()"
   ]
  }
 ],
 "metadata": {
  "kernelspec": {
   "display_name": "Python 3 (ipykernel)",
   "language": "python",
   "name": "python3"
  },
  "language_info": {
   "codemirror_mode": {
    "name": "ipython",
    "version": 3
   },
   "file_extension": ".py",
   "mimetype": "text/x-python",
   "name": "python",
   "nbconvert_exporter": "python",
   "pygments_lexer": "ipython3",
   "version": "3.8.10"
  }
 },
 "nbformat": 4,
 "nbformat_minor": 5
}
